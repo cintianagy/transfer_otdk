{
 "cells": [
  {
   "cell_type": "markdown",
   "id": "4c84468b",
   "metadata": {},
   "source": [
    "## import packages and data"
   ]
  },
  {
   "cell_type": "code",
   "execution_count": 73,
   "id": "78b4e04c",
   "metadata": {},
   "outputs": [],
   "source": [
    "# import packages\n",
    "import numpy as np\n",
    "import pandas as pd\n",
    "import os\n",
    "import glob\n",
    "import copy"
   ]
  },
  {
   "cell_type": "code",
   "execution_count": 75,
   "id": "03106d89",
   "metadata": {},
   "outputs": [],
   "source": [
    "# import helper files\n",
    "design_table = pd.read_csv('/processed_data/design_table.csv')"
   ]
  },
  {
   "cell_type": "code",
   "execution_count": 76,
   "id": "ce41cdde",
   "metadata": {},
   "outputs": [],
   "source": [
    "# import data\n",
    "path = 'data_analyser_output/data_motor_rand/trial_data_extended'\n",
    "os.chdir(path)\n",
    "\n",
    "extension = 'csv'\n",
    "all_files = [i for i in glob.glob('*.{}'.format(extension))]\n",
    "\n",
    "data_motor_rand = pd.concat([pd.read_csv(f, sep = '\\t') for f in all_files])\n",
    "\n",
    "data_motor_rand['source'] = 'motor_rand'"
   ]
  },
  {
   "cell_type": "code",
   "execution_count": 77,
   "id": "105a943b",
   "metadata": {},
   "outputs": [],
   "source": [
    "# import data\n",
    "path = 'data_analyser_output/data_motor_seq/trial_data_extended'\n",
    "os.chdir(path)\n",
    "\n",
    "extension = 'csv'\n",
    "all_files = [i for i in glob.glob('*.{}'.format(extension))]\n",
    "\n",
    "data_motor_seq = pd.concat([pd.read_csv(f, sep = '\\t') for f in all_files])\n",
    "\n",
    "data_motor_seq['source'] = 'motor_seq'"
   ]
  },
  {
   "cell_type": "code",
   "execution_count": 78,
   "id": "1a836550",
   "metadata": {},
   "outputs": [],
   "source": [
    "# import data\n",
    "path = 'data_analyser_output/data_percmotor_rand/trial_data_extended'\n",
    "os.chdir(path)\n",
    "\n",
    "extension = 'csv'\n",
    "all_files = [i for i in glob.glob('*.{}'.format(extension))]\n",
    "\n",
    "data_percmotor_rand = pd.concat([pd.read_csv(f, sep = '\\t') for f in all_files])\n",
    "\n",
    "data_percmotor_rand['source'] = 'percmotor_rand'"
   ]
  },
  {
   "cell_type": "code",
   "execution_count": 79,
   "id": "58abc9ab",
   "metadata": {},
   "outputs": [],
   "source": [
    "# import data\n",
    "path = 'data_analyser_output/data_percmotor_seq/trial_data_extended'\n",
    "os.chdir(path)\n",
    "\n",
    "extension = 'csv'\n",
    "all_files = [i for i in glob.glob('*.{}'.format(extension))]\n",
    "\n",
    "data_percmotor_seq = pd.concat([pd.read_csv(f, sep = '\\t') for f in all_files])\n",
    "\n",
    "data_percmotor_seq['source'] = 'percmotor_seq'"
   ]
  },
  {
   "cell_type": "code",
   "execution_count": 80,
   "id": "347f2c38",
   "metadata": {},
   "outputs": [],
   "source": [
    "# concat datasets\n",
    "data_asrt = pd.concat([data_motor_rand, data_motor_seq, data_percmotor_rand, data_percmotor_seq])"
   ]
  },
  {
   "cell_type": "code",
   "execution_count": 81,
   "id": "36196349",
   "metadata": {},
   "outputs": [],
   "source": [
    "# preproc the dataset\n",
    "data_asrt = data_asrt.loc[:, ['subject_number','session', 'epoch', 'block',\n",
    "       'trial', 'trial_type_pr', 'triplet_type_hl', 'RT', 'error', 'stimulus',\n",
    "       'response', 'repetition', 'trill', 'source', 'PCode', 'high_low_learning']]\n",
    "data_asrt = data_asrt.rename(columns = {'subject_number': 'subject'})"
   ]
  },
  {
   "cell_type": "code",
   "execution_count": 82,
   "id": "a3d09bb4",
   "metadata": {},
   "outputs": [],
   "source": [
    "# merge with design_table\n",
    "data_asrt = data_asrt.merge(design_table, on = 'subject')"
   ]
  },
  {
   "cell_type": "code",
   "execution_count": 83,
   "id": "7204ecca",
   "metadata": {},
   "outputs": [
    {
     "data": {
      "text/html": [
       "<div>\n",
       "<style scoped>\n",
       "    .dataframe tbody tr th:only-of-type {\n",
       "        vertical-align: middle;\n",
       "    }\n",
       "\n",
       "    .dataframe tbody tr th {\n",
       "        vertical-align: top;\n",
       "    }\n",
       "\n",
       "    .dataframe thead th {\n",
       "        text-align: right;\n",
       "    }\n",
       "</style>\n",
       "<table border=\"1\" class=\"dataframe\">\n",
       "  <thead>\n",
       "    <tr style=\"text-align: right;\">\n",
       "      <th></th>\n",
       "      <th>subject</th>\n",
       "      <th>session</th>\n",
       "      <th>epoch</th>\n",
       "      <th>block</th>\n",
       "      <th>trial</th>\n",
       "      <th>trial_type_pr</th>\n",
       "      <th>triplet_type_hl</th>\n",
       "      <th>RT</th>\n",
       "      <th>error</th>\n",
       "      <th>stimulus</th>\n",
       "      <th>...</th>\n",
       "      <th>Unnamed: 0</th>\n",
       "      <th>to_drop</th>\n",
       "      <th>s1_asrt_type</th>\n",
       "      <th>s2_asrt_type</th>\n",
       "      <th>s1_sequence_type</th>\n",
       "      <th>s2_sequence_type</th>\n",
       "      <th>is_changing_seq</th>\n",
       "      <th>is_changing_task</th>\n",
       "      <th>group</th>\n",
       "      <th>condition</th>\n",
       "    </tr>\n",
       "  </thead>\n",
       "  <tbody>\n",
       "    <tr>\n",
       "      <th>0</th>\n",
       "      <td>20</td>\n",
       "      <td>1</td>\n",
       "      <td>1</td>\n",
       "      <td>1</td>\n",
       "      <td>1</td>\n",
       "      <td>random</td>\n",
       "      <td>none</td>\n",
       "      <td>0,564605899999151</td>\n",
       "      <td>0</td>\n",
       "      <td>2</td>\n",
       "      <td>...</td>\n",
       "      <td>18</td>\n",
       "      <td>0</td>\n",
       "      <td>motoros</td>\n",
       "      <td>motoros</td>\n",
       "      <td>NaN</td>\n",
       "      <td>3</td>\n",
       "      <td>0</td>\n",
       "      <td>0</td>\n",
       "      <td>3</td>\n",
       "      <td>5</td>\n",
       "    </tr>\n",
       "    <tr>\n",
       "      <th>1</th>\n",
       "      <td>20</td>\n",
       "      <td>1</td>\n",
       "      <td>1</td>\n",
       "      <td>1</td>\n",
       "      <td>2</td>\n",
       "      <td>random</td>\n",
       "      <td>none</td>\n",
       "      <td>0,30085069999950065</td>\n",
       "      <td>0</td>\n",
       "      <td>3</td>\n",
       "      <td>...</td>\n",
       "      <td>18</td>\n",
       "      <td>0</td>\n",
       "      <td>motoros</td>\n",
       "      <td>motoros</td>\n",
       "      <td>NaN</td>\n",
       "      <td>3</td>\n",
       "      <td>0</td>\n",
       "      <td>0</td>\n",
       "      <td>3</td>\n",
       "      <td>5</td>\n",
       "    </tr>\n",
       "    <tr>\n",
       "      <th>2</th>\n",
       "      <td>20</td>\n",
       "      <td>1</td>\n",
       "      <td>1</td>\n",
       "      <td>1</td>\n",
       "      <td>3</td>\n",
       "      <td>random</td>\n",
       "      <td>none</td>\n",
       "      <td>0,2608688999989681</td>\n",
       "      <td>0</td>\n",
       "      <td>3</td>\n",
       "      <td>...</td>\n",
       "      <td>18</td>\n",
       "      <td>0</td>\n",
       "      <td>motoros</td>\n",
       "      <td>motoros</td>\n",
       "      <td>NaN</td>\n",
       "      <td>3</td>\n",
       "      <td>0</td>\n",
       "      <td>0</td>\n",
       "      <td>3</td>\n",
       "      <td>5</td>\n",
       "    </tr>\n",
       "    <tr>\n",
       "      <th>3</th>\n",
       "      <td>20</td>\n",
       "      <td>1</td>\n",
       "      <td>1</td>\n",
       "      <td>1</td>\n",
       "      <td>4</td>\n",
       "      <td>random</td>\n",
       "      <td>none</td>\n",
       "      <td>0,356960799999797</td>\n",
       "      <td>0</td>\n",
       "      <td>1</td>\n",
       "      <td>...</td>\n",
       "      <td>18</td>\n",
       "      <td>0</td>\n",
       "      <td>motoros</td>\n",
       "      <td>motoros</td>\n",
       "      <td>NaN</td>\n",
       "      <td>3</td>\n",
       "      <td>0</td>\n",
       "      <td>0</td>\n",
       "      <td>3</td>\n",
       "      <td>5</td>\n",
       "    </tr>\n",
       "    <tr>\n",
       "      <th>4</th>\n",
       "      <td>20</td>\n",
       "      <td>1</td>\n",
       "      <td>1</td>\n",
       "      <td>1</td>\n",
       "      <td>5</td>\n",
       "      <td>random</td>\n",
       "      <td>none</td>\n",
       "      <td>0,27686630000061996</td>\n",
       "      <td>0</td>\n",
       "      <td>1</td>\n",
       "      <td>...</td>\n",
       "      <td>18</td>\n",
       "      <td>0</td>\n",
       "      <td>motoros</td>\n",
       "      <td>motoros</td>\n",
       "      <td>NaN</td>\n",
       "      <td>3</td>\n",
       "      <td>0</td>\n",
       "      <td>0</td>\n",
       "      <td>3</td>\n",
       "      <td>5</td>\n",
       "    </tr>\n",
       "  </tbody>\n",
       "</table>\n",
       "<p>5 rows × 26 columns</p>\n",
       "</div>"
      ],
      "text/plain": [
       "   subject  session  epoch  block  trial trial_type_pr triplet_type_hl  \\\n",
       "0       20        1      1      1      1        random            none   \n",
       "1       20        1      1      1      2        random            none   \n",
       "2       20        1      1      1      3        random            none   \n",
       "3       20        1      1      1      4        random            none   \n",
       "4       20        1      1      1      5        random            none   \n",
       "\n",
       "                    RT  error  stimulus  ...  Unnamed: 0 to_drop s1_asrt_type  \\\n",
       "0    0,564605899999151      0         2  ...          18       0      motoros   \n",
       "1  0,30085069999950065      0         3  ...          18       0      motoros   \n",
       "2   0,2608688999989681      0         3  ...          18       0      motoros   \n",
       "3    0,356960799999797      0         1  ...          18       0      motoros   \n",
       "4  0,27686630000061996      0         1  ...          18       0      motoros   \n",
       "\n",
       "  s2_asrt_type s1_sequence_type s2_sequence_type  is_changing_seq  \\\n",
       "0      motoros              NaN                3                0   \n",
       "1      motoros              NaN                3                0   \n",
       "2      motoros              NaN                3                0   \n",
       "3      motoros              NaN                3                0   \n",
       "4      motoros              NaN                3                0   \n",
       "\n",
       "   is_changing_task group condition  \n",
       "0                 0     3         5  \n",
       "1                 0     3         5  \n",
       "2                 0     3         5  \n",
       "3                 0     3         5  \n",
       "4                 0     3         5  \n",
       "\n",
       "[5 rows x 26 columns]"
      ]
     },
     "execution_count": 83,
     "metadata": {},
     "output_type": "execute_result"
    }
   ],
   "source": [
    "data_asrt.head()"
   ]
  },
  {
   "cell_type": "code",
   "execution_count": 84,
   "id": "07feb5b0",
   "metadata": {},
   "outputs": [
    {
     "name": "stderr",
     "output_type": "stream",
     "text": [
      "C:\\Users\\nagyc\\AppData\\Local\\Temp\\ipykernel_9892\\4235317897.py:25: SettingWithCopyWarning: \n",
      "A value is trying to be set on a copy of a slice from a DataFrame\n",
      "\n",
      "See the caveats in the documentation: https://pandas.pydata.org/pandas-docs/stable/user_guide/indexing.html#returning-a-view-versus-a-copy\n",
      "  data_asrt['session'][i] = 1\n",
      "C:\\Users\\nagyc\\AppData\\Local\\Temp\\ipykernel_9892\\4235317897.py:27: SettingWithCopyWarning: \n",
      "A value is trying to be set on a copy of a slice from a DataFrame\n",
      "\n",
      "See the caveats in the documentation: https://pandas.pydata.org/pandas-docs/stable/user_guide/indexing.html#returning-a-view-versus-a-copy\n",
      "  data_asrt['session'][i] = 2\n",
      "C:\\Users\\nagyc\\AppData\\Local\\Temp\\ipykernel_9892\\4235317897.py:15: SettingWithCopyWarning: \n",
      "A value is trying to be set on a copy of a slice from a DataFrame\n",
      "\n",
      "See the caveats in the documentation: https://pandas.pydata.org/pandas-docs/stable/user_guide/indexing.html#returning-a-view-versus-a-copy\n",
      "  data_asrt['session'][i] = 1\n",
      "C:\\Users\\nagyc\\AppData\\Local\\Temp\\ipykernel_9892\\4235317897.py:17: SettingWithCopyWarning: \n",
      "A value is trying to be set on a copy of a slice from a DataFrame\n",
      "\n",
      "See the caveats in the documentation: https://pandas.pydata.org/pandas-docs/stable/user_guide/indexing.html#returning-a-view-versus-a-copy\n",
      "  data_asrt['session'][i] = 2\n",
      "C:\\Users\\nagyc\\AppData\\Local\\Temp\\ipykernel_9892\\4235317897.py:5: SettingWithCopyWarning: \n",
      "A value is trying to be set on a copy of a slice from a DataFrame\n",
      "\n",
      "See the caveats in the documentation: https://pandas.pydata.org/pandas-docs/stable/user_guide/indexing.html#returning-a-view-versus-a-copy\n",
      "  data_asrt['session'][i] = 1\n",
      "C:\\Users\\nagyc\\AppData\\Local\\Temp\\ipykernel_9892\\4235317897.py:7: SettingWithCopyWarning: \n",
      "A value is trying to be set on a copy of a slice from a DataFrame\n",
      "\n",
      "See the caveats in the documentation: https://pandas.pydata.org/pandas-docs/stable/user_guide/indexing.html#returning-a-view-versus-a-copy\n",
      "  data_asrt['session'][i] = 2\n",
      "C:\\Users\\nagyc\\AppData\\Local\\Temp\\ipykernel_9892\\4235317897.py:12: SettingWithCopyWarning: \n",
      "A value is trying to be set on a copy of a slice from a DataFrame\n",
      "\n",
      "See the caveats in the documentation: https://pandas.pydata.org/pandas-docs/stable/user_guide/indexing.html#returning-a-view-versus-a-copy\n",
      "  data_asrt['session'][i] = 2\n",
      "C:\\Users\\nagyc\\AppData\\Local\\Temp\\ipykernel_9892\\4235317897.py:10: SettingWithCopyWarning: \n",
      "A value is trying to be set on a copy of a slice from a DataFrame\n",
      "\n",
      "See the caveats in the documentation: https://pandas.pydata.org/pandas-docs/stable/user_guide/indexing.html#returning-a-view-versus-a-copy\n",
      "  data_asrt['session'][i] = 1\n",
      "C:\\Users\\nagyc\\AppData\\Local\\Temp\\ipykernel_9892\\4235317897.py:22: SettingWithCopyWarning: \n",
      "A value is trying to be set on a copy of a slice from a DataFrame\n",
      "\n",
      "See the caveats in the documentation: https://pandas.pydata.org/pandas-docs/stable/user_guide/indexing.html#returning-a-view-versus-a-copy\n",
      "  data_asrt['session'][i] = 2\n",
      "C:\\Users\\nagyc\\AppData\\Local\\Temp\\ipykernel_9892\\4235317897.py:20: SettingWithCopyWarning: \n",
      "A value is trying to be set on a copy of a slice from a DataFrame\n",
      "\n",
      "See the caveats in the documentation: https://pandas.pydata.org/pandas-docs/stable/user_guide/indexing.html#returning-a-view-versus-a-copy\n",
      "  data_asrt['session'][i] = 1\n",
      "C:\\Users\\nagyc\\AppData\\Local\\Temp\\ipykernel_9892\\4235317897.py:30: SettingWithCopyWarning: \n",
      "A value is trying to be set on a copy of a slice from a DataFrame\n",
      "\n",
      "See the caveats in the documentation: https://pandas.pydata.org/pandas-docs/stable/user_guide/indexing.html#returning-a-view-versus-a-copy\n",
      "  data_asrt['session'][i] = 1\n",
      "C:\\Users\\nagyc\\AppData\\Local\\Temp\\ipykernel_9892\\4235317897.py:32: SettingWithCopyWarning: \n",
      "A value is trying to be set on a copy of a slice from a DataFrame\n",
      "\n",
      "See the caveats in the documentation: https://pandas.pydata.org/pandas-docs/stable/user_guide/indexing.html#returning-a-view-versus-a-copy\n",
      "  data_asrt['session'][i] = 2\n"
     ]
    }
   ],
   "source": [
    "# assign session\n",
    "for i in range(len(data_asrt)):\n",
    "    if data_asrt['condition'][i] == 1:\n",
    "        if data_asrt['source'][i] == 'motor_seq':\n",
    "            data_asrt['session'][i] = 1\n",
    "        elif data_asrt['source'][i] == 'percmotor_seq':\n",
    "            data_asrt['session'][i] = 2\n",
    "    elif data_asrt['condition'][i] == 2:\n",
    "        if data_asrt['source'][i] == 'percmotor_seq':\n",
    "            data_asrt['session'][i] = 1\n",
    "        elif data_asrt['source'][i] == 'motor_seq':\n",
    "            data_asrt['session'][i] = 2\n",
    "    if data_asrt['condition'][i] == 3:\n",
    "        if data_asrt['source'][i] == 'motor_seq':\n",
    "            data_asrt['session'][i] = 1\n",
    "        elif data_asrt['source'][i] == 'percmotor_seq':\n",
    "            data_asrt['session'][i] = 2\n",
    "    elif data_asrt['condition'][i] == 4:\n",
    "        if data_asrt['source'][i] == 'percmotor_seq':\n",
    "            data_asrt['session'][i] = 1\n",
    "        elif data_asrt['source'][i] == 'motor_seq':\n",
    "            data_asrt['session'][i] = 2\n",
    "    elif data_asrt['condition'][i] == 5:\n",
    "        if data_asrt['source'][i] == 'motor_rand':\n",
    "            data_asrt['session'][i] = 1\n",
    "        elif data_asrt['source'][i] == 'motor_seq':\n",
    "            data_asrt['session'][i] = 2\n",
    "    elif data_asrt['condition'][i] == 6:\n",
    "        if data_asrt['source'][i] == 'percmotor_rand':\n",
    "            data_asrt['session'][i] = 1\n",
    "        elif data_asrt['source'][i] == 'percmotor_seq':\n",
    "            data_asrt['session'][i] = 2"
   ]
  },
  {
   "cell_type": "code",
   "execution_count": 85,
   "id": "47098851",
   "metadata": {},
   "outputs": [
    {
     "name": "stderr",
     "output_type": "stream",
     "text": [
      "C:\\Users\\nagyc\\AppData\\Local\\Temp\\ipykernel_9892\\1512938343.py:4: SettingWithCopyWarning: \n",
      "A value is trying to be set on a copy of a slice from a DataFrame\n",
      "\n",
      "See the caveats in the documentation: https://pandas.pydata.org/pandas-docs/stable/user_guide/indexing.html#returning-a-view-versus-a-copy\n",
      "  data_asrt['epoch'][i] += 4\n"
     ]
    }
   ],
   "source": [
    "# rename epochs in session 2\n",
    "for i in range(len(data_asrt)):\n",
    "    if data_asrt['session'][i] == 2:\n",
    "        data_asrt['epoch'][i] += 4"
   ]
  },
  {
   "cell_type": "code",
   "execution_count": 86,
   "id": "c7a5640b",
   "metadata": {},
   "outputs": [
    {
     "name": "stderr",
     "output_type": "stream",
     "text": [
      "C:\\Users\\nagyc\\AppData\\Local\\Temp\\ipykernel_9892\\3421326453.py:4: SettingWithCopyWarning: \n",
      "A value is trying to be set on a copy of a slice from a DataFrame\n",
      "\n",
      "See the caveats in the documentation: https://pandas.pydata.org/pandas-docs/stable/user_guide/indexing.html#returning-a-view-versus-a-copy\n",
      "  data_asrt['block'][i] += 20\n"
     ]
    }
   ],
   "source": [
    "# rename blocks in session 2\n",
    "for i in range(len(data_asrt)):\n",
    "    if data_asrt['session'][i] == 2:\n",
    "        data_asrt['block'][i] += 20"
   ]
  },
  {
   "cell_type": "code",
   "execution_count": 87,
   "id": "02c243d8",
   "metadata": {},
   "outputs": [],
   "source": [
    "# drop participants\n",
    "data_asrt = data_asrt.drop(data_asrt[data_asrt['to_drop'] == 1].index)"
   ]
  },
  {
   "cell_type": "markdown",
   "id": "54cdd15d",
   "metadata": {},
   "source": [
    "## create datasets"
   ]
  },
  {
   "cell_type": "code",
   "execution_count": 89,
   "id": "3ed2ad10",
   "metadata": {},
   "outputs": [],
   "source": [
    "data_asrt['ACC'] = data_asrt['error']\n",
    "data_asrt['ACC'] = data_asrt['ACC'].replace({0 : 1, 1 : 0})"
   ]
  },
  {
   "cell_type": "code",
   "execution_count": 90,
   "id": "72a03451",
   "metadata": {},
   "outputs": [],
   "source": [
    "data_raw = copy.deepcopy(data_asrt)"
   ]
  },
  {
   "cell_type": "code",
   "execution_count": 91,
   "id": "df18a6b7",
   "metadata": {},
   "outputs": [
    {
     "name": "stdout",
     "output_type": "stream",
     "text": [
      "10.693412030976102\n",
      "3.58577229458362\n"
     ]
    }
   ],
   "source": [
    "# how many trills?\n",
    "print(len(data_asrt[data_asrt['trill'] == 'True'])/len(data_asrt)*100)\n",
    "\n",
    "# how many repetitions?\n",
    "print(len(data_asrt[data_asrt['repetition'] == 'True'])/len(data_asrt)*100)"
   ]
  },
  {
   "cell_type": "code",
   "execution_count": 92,
   "id": "08b161ba",
   "metadata": {},
   "outputs": [
    {
     "name": "stdout",
     "output_type": "stream",
     "text": [
      "8.141211973284221\n"
     ]
    }
   ],
   "source": [
    "# how many bad responses?\n",
    "print(len(data_asrt[data_asrt['ACC'] == 0])/len(data_asrt)*100)"
   ]
  },
  {
   "cell_type": "code",
   "execution_count": 93,
   "id": "6400f38c",
   "metadata": {},
   "outputs": [],
   "source": [
    "# exclude first trials, trills and repetitions\n",
    "indexNames = data_asrt[data_asrt['trial'] < 3].index\n",
    "data_asrt.drop(indexNames, inplace=True)\n",
    "indexNames2 = data_asrt[data_asrt['repetition'] == 'true'].index\n",
    "data_asrt.drop(indexNames2, inplace=True)\n",
    "indexNames3 = data_asrt[data_asrt['trill'] == 'true'].index\n",
    "data_asrt.drop(indexNames3, inplace=True)\n",
    "data_asrt = data_asrt.reset_index(drop=True)"
   ]
  },
  {
   "cell_type": "code",
   "execution_count": 94,
   "id": "9b7d3596",
   "metadata": {},
   "outputs": [],
   "source": [
    "# RT to numeric\n",
    "data_asrt['RT'] = data_asrt['RT'].str.replace(',', '.')\n",
    "data_asrt['RT'] = pd.to_numeric(data_asrt['RT'])\n",
    "data_asrt['RT'] = data_asrt['RT']*1000"
   ]
  },
  {
   "cell_type": "code",
   "execution_count": 95,
   "id": "e4d171ff",
   "metadata": {},
   "outputs": [],
   "source": [
    "# for trial-level analysis\n",
    "data_asrt.to_csv('processed_data/ASRT/data_trial.csv')"
   ]
  },
  {
   "cell_type": "code",
   "execution_count": 100,
   "id": "39597783",
   "metadata": {},
   "outputs": [],
   "source": [
    "# drop incorrect trial\n",
    "indexNames = data_asrt[data_asrt['ACC'] == 0 ].index\n",
    "data_asrt.drop(indexNames, inplace=True)\n",
    "data_asrt = data_asrt.reset_index(drop=True)"
   ]
  },
  {
   "cell_type": "code",
   "execution_count": 101,
   "id": "7f2f2d9f",
   "metadata": {},
   "outputs": [
    {
     "name": "stdout",
     "output_type": "stream",
     "text": [
      "10.31308940022633\n"
     ]
    }
   ],
   "source": [
    "print((len(data_raw)-len(data_asrt))/len(data_raw)*100)"
   ]
  }
 ],
 "metadata": {
  "kernelspec": {
   "display_name": "Python 3 (ipykernel)",
   "language": "python",
   "name": "python3"
  },
  "language_info": {
   "codemirror_mode": {
    "name": "ipython",
    "version": 3
   },
   "file_extension": ".py",
   "mimetype": "text/x-python",
   "name": "python",
   "nbconvert_exporter": "python",
   "pygments_lexer": "ipython3",
   "version": "3.9.13"
  }
 },
 "nbformat": 4,
 "nbformat_minor": 5
}

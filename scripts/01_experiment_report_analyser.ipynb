{
 "cells": [
  {
   "cell_type": "markdown",
   "id": "3d077db6",
   "metadata": {},
   "source": [
    "## import packages and data"
   ]
  },
  {
   "cell_type": "code",
   "execution_count": 1,
   "id": "00b7765b",
   "metadata": {},
   "outputs": [],
   "source": [
    "# import packages\n",
    "import numpy as np\n",
    "import pandas as pd"
   ]
  },
  {
   "cell_type": "code",
   "execution_count": 3,
   "id": "75d9d98f",
   "metadata": {},
   "outputs": [],
   "source": [
    "# import data\n",
    "exp_rep = pd.read_excel(\"For_experimenters\\jegyzőkönyv_transfer.xlsx\", skiprows = [0, 1], header = None)"
   ]
  },
  {
   "cell_type": "markdown",
   "id": "57bc7f8d",
   "metadata": {},
   "source": [
    "## create design table (for further analysis)"
   ]
  },
  {
   "cell_type": "code",
   "execution_count": 4,
   "id": "65ab5fae",
   "metadata": {},
   "outputs": [
    {
     "data": {
      "text/html": [
       "<div>\n",
       "<style scoped>\n",
       "    .dataframe tbody tr th:only-of-type {\n",
       "        vertical-align: middle;\n",
       "    }\n",
       "\n",
       "    .dataframe tbody tr th {\n",
       "        vertical-align: top;\n",
       "    }\n",
       "\n",
       "    .dataframe thead th {\n",
       "        text-align: right;\n",
       "    }\n",
       "</style>\n",
       "<table border=\"1\" class=\"dataframe\">\n",
       "  <thead>\n",
       "    <tr style=\"text-align: right;\">\n",
       "      <th></th>\n",
       "      <th>0</th>\n",
       "      <th>1</th>\n",
       "      <th>16</th>\n",
       "      <th>17</th>\n",
       "      <th>18</th>\n",
       "      <th>19</th>\n",
       "    </tr>\n",
       "  </thead>\n",
       "  <tbody>\n",
       "    <tr>\n",
       "      <th>0</th>\n",
       "      <td>2</td>\n",
       "      <td>0</td>\n",
       "      <td>perceptuo</td>\n",
       "      <td>motoros</td>\n",
       "      <td>A4</td>\n",
       "      <td>A4</td>\n",
       "    </tr>\n",
       "    <tr>\n",
       "      <th>1</th>\n",
       "      <td>3</td>\n",
       "      <td>0</td>\n",
       "      <td>perceptuo</td>\n",
       "      <td>motoros</td>\n",
       "      <td>A3</td>\n",
       "      <td>A3</td>\n",
       "    </tr>\n",
       "    <tr>\n",
       "      <th>2</th>\n",
       "      <td>4</td>\n",
       "      <td>0</td>\n",
       "      <td>motoros</td>\n",
       "      <td>perceptuo</td>\n",
       "      <td>A5</td>\n",
       "      <td>A5</td>\n",
       "    </tr>\n",
       "    <tr>\n",
       "      <th>3</th>\n",
       "      <td>5</td>\n",
       "      <td>0</td>\n",
       "      <td>perceptuo</td>\n",
       "      <td>motoros</td>\n",
       "      <td>A4</td>\n",
       "      <td>A4</td>\n",
       "    </tr>\n",
       "    <tr>\n",
       "      <th>4</th>\n",
       "      <td>6</td>\n",
       "      <td>0</td>\n",
       "      <td>perceptuo</td>\n",
       "      <td>motoros</td>\n",
       "      <td>A2</td>\n",
       "      <td>A2</td>\n",
       "    </tr>\n",
       "  </tbody>\n",
       "</table>\n",
       "</div>"
      ],
      "text/plain": [
       "   0   1          16         17  18  19\n",
       "0   2   0  perceptuo    motoros  A4  A4\n",
       "1   3   0  perceptuo    motoros  A3  A3\n",
       "2   4   0    motoros  perceptuo  A5  A5\n",
       "3   5   0  perceptuo    motoros  A4  A4\n",
       "4   6   0  perceptuo    motoros  A2  A2"
      ]
     },
     "execution_count": 4,
     "metadata": {},
     "output_type": "execute_result"
    }
   ],
   "source": [
    "# extract info from experiment report: type of ASRT, sequence type\n",
    "design_table = exp_rep.iloc[:, [0, 1, 16, 17, 18, 19]]\n",
    "design_table.head()"
   ]
  },
  {
   "cell_type": "code",
   "execution_count": 5,
   "id": "f9d560b2",
   "metadata": {},
   "outputs": [
    {
     "data": {
      "text/html": [
       "<div>\n",
       "<style scoped>\n",
       "    .dataframe tbody tr th:only-of-type {\n",
       "        vertical-align: middle;\n",
       "    }\n",
       "\n",
       "    .dataframe tbody tr th {\n",
       "        vertical-align: top;\n",
       "    }\n",
       "\n",
       "    .dataframe thead th {\n",
       "        text-align: right;\n",
       "    }\n",
       "</style>\n",
       "<table border=\"1\" class=\"dataframe\">\n",
       "  <thead>\n",
       "    <tr style=\"text-align: right;\">\n",
       "      <th></th>\n",
       "      <th>subject</th>\n",
       "      <th>to_drop</th>\n",
       "      <th>s1_asrt_type</th>\n",
       "      <th>s2_asrt_type</th>\n",
       "      <th>s1_sequence_type</th>\n",
       "      <th>s2_sequence_type</th>\n",
       "    </tr>\n",
       "  </thead>\n",
       "  <tbody>\n",
       "    <tr>\n",
       "      <th>0</th>\n",
       "      <td>2</td>\n",
       "      <td>0</td>\n",
       "      <td>perceptuo</td>\n",
       "      <td>motoros</td>\n",
       "      <td>A4</td>\n",
       "      <td>A4</td>\n",
       "    </tr>\n",
       "    <tr>\n",
       "      <th>1</th>\n",
       "      <td>3</td>\n",
       "      <td>0</td>\n",
       "      <td>perceptuo</td>\n",
       "      <td>motoros</td>\n",
       "      <td>A3</td>\n",
       "      <td>A3</td>\n",
       "    </tr>\n",
       "    <tr>\n",
       "      <th>2</th>\n",
       "      <td>4</td>\n",
       "      <td>0</td>\n",
       "      <td>motoros</td>\n",
       "      <td>perceptuo</td>\n",
       "      <td>A5</td>\n",
       "      <td>A5</td>\n",
       "    </tr>\n",
       "    <tr>\n",
       "      <th>3</th>\n",
       "      <td>5</td>\n",
       "      <td>0</td>\n",
       "      <td>perceptuo</td>\n",
       "      <td>motoros</td>\n",
       "      <td>A4</td>\n",
       "      <td>A4</td>\n",
       "    </tr>\n",
       "    <tr>\n",
       "      <th>4</th>\n",
       "      <td>6</td>\n",
       "      <td>0</td>\n",
       "      <td>perceptuo</td>\n",
       "      <td>motoros</td>\n",
       "      <td>A2</td>\n",
       "      <td>A2</td>\n",
       "    </tr>\n",
       "  </tbody>\n",
       "</table>\n",
       "</div>"
      ],
      "text/plain": [
       "   subject  to_drop s1_asrt_type s2_asrt_type s1_sequence_type  \\\n",
       "0        2        0    perceptuo      motoros               A4   \n",
       "1        3        0    perceptuo      motoros               A3   \n",
       "2        4        0      motoros    perceptuo               A5   \n",
       "3        5        0    perceptuo      motoros               A4   \n",
       "4        6        0    perceptuo      motoros               A2   \n",
       "\n",
       "  s2_sequence_type  \n",
       "0               A4  \n",
       "1               A3  \n",
       "2               A5  \n",
       "3               A4  \n",
       "4               A2  "
      ]
     },
     "execution_count": 5,
     "metadata": {},
     "output_type": "execute_result"
    }
   ],
   "source": [
    "# rename cols\n",
    "design_table = design_table.rename(columns={0: 'subject', 1: 'to_drop', 16 : 's1_asrt_type', 17 : 's2_asrt_type', 18 : 's1_sequence_type', 19 : 's2_sequence_type'})\n",
    "design_table.head()"
   ]
  },
  {
   "cell_type": "code",
   "execution_count": 6,
   "id": "51f1257e",
   "metadata": {},
   "outputs": [
    {
     "data": {
      "text/html": [
       "<div>\n",
       "<style scoped>\n",
       "    .dataframe tbody tr th:only-of-type {\n",
       "        vertical-align: middle;\n",
       "    }\n",
       "\n",
       "    .dataframe tbody tr th {\n",
       "        vertical-align: top;\n",
       "    }\n",
       "\n",
       "    .dataframe thead th {\n",
       "        text-align: right;\n",
       "    }\n",
       "</style>\n",
       "<table border=\"1\" class=\"dataframe\">\n",
       "  <thead>\n",
       "    <tr style=\"text-align: right;\">\n",
       "      <th></th>\n",
       "      <th>subject</th>\n",
       "      <th>to_drop</th>\n",
       "      <th>s1_asrt_type</th>\n",
       "      <th>s2_asrt_type</th>\n",
       "      <th>s1_sequence_type</th>\n",
       "      <th>s2_sequence_type</th>\n",
       "    </tr>\n",
       "  </thead>\n",
       "  <tbody>\n",
       "    <tr>\n",
       "      <th>0</th>\n",
       "      <td>2</td>\n",
       "      <td>0</td>\n",
       "      <td>perceptuo</td>\n",
       "      <td>motoros</td>\n",
       "      <td>4</td>\n",
       "      <td>4</td>\n",
       "    </tr>\n",
       "    <tr>\n",
       "      <th>1</th>\n",
       "      <td>3</td>\n",
       "      <td>0</td>\n",
       "      <td>perceptuo</td>\n",
       "      <td>motoros</td>\n",
       "      <td>3</td>\n",
       "      <td>3</td>\n",
       "    </tr>\n",
       "    <tr>\n",
       "      <th>2</th>\n",
       "      <td>4</td>\n",
       "      <td>0</td>\n",
       "      <td>motoros</td>\n",
       "      <td>perceptuo</td>\n",
       "      <td>5</td>\n",
       "      <td>5</td>\n",
       "    </tr>\n",
       "    <tr>\n",
       "      <th>3</th>\n",
       "      <td>5</td>\n",
       "      <td>0</td>\n",
       "      <td>perceptuo</td>\n",
       "      <td>motoros</td>\n",
       "      <td>4</td>\n",
       "      <td>4</td>\n",
       "    </tr>\n",
       "    <tr>\n",
       "      <th>4</th>\n",
       "      <td>6</td>\n",
       "      <td>0</td>\n",
       "      <td>perceptuo</td>\n",
       "      <td>motoros</td>\n",
       "      <td>2</td>\n",
       "      <td>2</td>\n",
       "    </tr>\n",
       "  </tbody>\n",
       "</table>\n",
       "</div>"
      ],
      "text/plain": [
       "   subject  to_drop s1_asrt_type s2_asrt_type s1_sequence_type  \\\n",
       "0        2        0    perceptuo      motoros                4   \n",
       "1        3        0    perceptuo      motoros                3   \n",
       "2        4        0      motoros    perceptuo                5   \n",
       "3        5        0    perceptuo      motoros                4   \n",
       "4        6        0    perceptuo      motoros                2   \n",
       "\n",
       "  s2_sequence_type  \n",
       "0                4  \n",
       "1                3  \n",
       "2                5  \n",
       "3                4  \n",
       "4                2  "
      ]
     },
     "execution_count": 6,
     "metadata": {},
     "output_type": "execute_result"
    }
   ],
   "source": [
    "# slice sequence type col\n",
    "design_table['s1_sequence_type'] = design_table['s1_sequence_type'].str[1]\n",
    "design_table['s2_sequence_type'] = design_table['s2_sequence_type'].str[1]\n",
    "design_table.head()"
   ]
  },
  {
   "cell_type": "code",
   "execution_count": 7,
   "id": "ca787e94",
   "metadata": {},
   "outputs": [
    {
     "name": "stderr",
     "output_type": "stream",
     "text": [
      "C:\\Users\\nagyc\\AppData\\Local\\Temp\\ipykernel_9284\\407903898.py:6: SettingWithCopyWarning: \n",
      "A value is trying to be set on a copy of a slice from a DataFrame\n",
      "\n",
      "See the caveats in the documentation: https://pandas.pydata.org/pandas-docs/stable/user_guide/indexing.html#returning-a-view-versus-a-copy\n",
      "  design_table['is_changing_seq'][i] = 1\n"
     ]
    }
   ],
   "source": [
    "# is changing sequence\n",
    "design_table['is_changing_seq'] = 0\n",
    "\n",
    "for i in range(len(design_table)):\n",
    "    if (pd.notna(design_table['s1_sequence_type'][i])) and (design_table['s1_sequence_type'][i] != design_table['s2_sequence_type'][i]):\n",
    "        design_table['is_changing_seq'][i] = 1"
   ]
  },
  {
   "cell_type": "code",
   "execution_count": 8,
   "id": "24892382",
   "metadata": {},
   "outputs": [
    {
     "name": "stderr",
     "output_type": "stream",
     "text": [
      "C:\\Users\\nagyc\\AppData\\Local\\Temp\\ipykernel_9284\\4290952202.py:6: SettingWithCopyWarning: \n",
      "A value is trying to be set on a copy of a slice from a DataFrame\n",
      "\n",
      "See the caveats in the documentation: https://pandas.pydata.org/pandas-docs/stable/user_guide/indexing.html#returning-a-view-versus-a-copy\n",
      "  design_table['is_changing_task'][i] = 1\n"
     ]
    }
   ],
   "source": [
    "# is changing task\n",
    "design_table['is_changing_task'] = 0\n",
    "\n",
    "for i in range(len(design_table)):\n",
    "    if design_table['s1_asrt_type'][i] != design_table['s2_asrt_type'][i]:\n",
    "        design_table['is_changing_task'][i] = 1"
   ]
  },
  {
   "cell_type": "code",
   "execution_count": 9,
   "id": "02d9ea05",
   "metadata": {},
   "outputs": [
    {
     "name": "stderr",
     "output_type": "stream",
     "text": [
      "C:\\Users\\nagyc\\AppData\\Local\\Temp\\ipykernel_9284\\4188918569.py:6: SettingWithCopyWarning: \n",
      "A value is trying to be set on a copy of a slice from a DataFrame\n",
      "\n",
      "See the caveats in the documentation: https://pandas.pydata.org/pandas-docs/stable/user_guide/indexing.html#returning-a-view-versus-a-copy\n",
      "  design_table['group'][i] = 1\n",
      "C:\\Users\\nagyc\\AppData\\Local\\Temp\\ipykernel_9284\\4188918569.py:10: SettingWithCopyWarning: \n",
      "A value is trying to be set on a copy of a slice from a DataFrame\n",
      "\n",
      "See the caveats in the documentation: https://pandas.pydata.org/pandas-docs/stable/user_guide/indexing.html#returning-a-view-versus-a-copy\n",
      "  design_table['group'][i] = 3\n",
      "C:\\Users\\nagyc\\AppData\\Local\\Temp\\ipykernel_9284\\4188918569.py:8: SettingWithCopyWarning: \n",
      "A value is trying to be set on a copy of a slice from a DataFrame\n",
      "\n",
      "See the caveats in the documentation: https://pandas.pydata.org/pandas-docs/stable/user_guide/indexing.html#returning-a-view-versus-a-copy\n",
      "  design_table['group'][i] = 2\n"
     ]
    }
   ],
   "source": [
    "# add group label:\n",
    "design_table['group'] = 0\n",
    "\n",
    "for i in range(len(design_table)):\n",
    "    if design_table['is_changing_task'][i] == 1:\n",
    "        design_table['group'][i] = 1\n",
    "        if design_table['is_changing_seq'][i] == 1:\n",
    "            design_table['group'][i] = 2\n",
    "    else:\n",
    "        design_table['group'][i] = 3"
   ]
  },
  {
   "cell_type": "code",
   "execution_count": 10,
   "id": "c2f089a1",
   "metadata": {},
   "outputs": [
    {
     "name": "stderr",
     "output_type": "stream",
     "text": [
      "C:\\Users\\nagyc\\AppData\\Local\\Temp\\ipykernel_9284\\3930830967.py:6: SettingWithCopyWarning: \n",
      "A value is trying to be set on a copy of a slice from a DataFrame\n",
      "\n",
      "See the caveats in the documentation: https://pandas.pydata.org/pandas-docs/stable/user_guide/indexing.html#returning-a-view-versus-a-copy\n",
      "  design_table['condition'][i] = 1\n",
      "C:\\Users\\nagyc\\AppData\\Local\\Temp\\ipykernel_9284\\3930830967.py:8: SettingWithCopyWarning: \n",
      "A value is trying to be set on a copy of a slice from a DataFrame\n",
      "\n",
      "See the caveats in the documentation: https://pandas.pydata.org/pandas-docs/stable/user_guide/indexing.html#returning-a-view-versus-a-copy\n",
      "  design_table['condition'][i] = 2\n",
      "C:\\Users\\nagyc\\AppData\\Local\\Temp\\ipykernel_9284\\3930830967.py:14: SettingWithCopyWarning: \n",
      "A value is trying to be set on a copy of a slice from a DataFrame\n",
      "\n",
      "See the caveats in the documentation: https://pandas.pydata.org/pandas-docs/stable/user_guide/indexing.html#returning-a-view-versus-a-copy\n",
      "  design_table['condition'][i] = 5\n",
      "C:\\Users\\nagyc\\AppData\\Local\\Temp\\ipykernel_9284\\3930830967.py:16: SettingWithCopyWarning: \n",
      "A value is trying to be set on a copy of a slice from a DataFrame\n",
      "\n",
      "See the caveats in the documentation: https://pandas.pydata.org/pandas-docs/stable/user_guide/indexing.html#returning-a-view-versus-a-copy\n",
      "  design_table['condition'][i] = 6\n",
      "C:\\Users\\nagyc\\AppData\\Local\\Temp\\ipykernel_9284\\3930830967.py:10: SettingWithCopyWarning: \n",
      "A value is trying to be set on a copy of a slice from a DataFrame\n",
      "\n",
      "See the caveats in the documentation: https://pandas.pydata.org/pandas-docs/stable/user_guide/indexing.html#returning-a-view-versus-a-copy\n",
      "  design_table['condition'][i] = 3\n",
      "C:\\Users\\nagyc\\AppData\\Local\\Temp\\ipykernel_9284\\3930830967.py:12: SettingWithCopyWarning: \n",
      "A value is trying to be set on a copy of a slice from a DataFrame\n",
      "\n",
      "See the caveats in the documentation: https://pandas.pydata.org/pandas-docs/stable/user_guide/indexing.html#returning-a-view-versus-a-copy\n",
      "  design_table['condition'][i] = 4\n"
     ]
    }
   ],
   "source": [
    "# add condition label:\n",
    "design_table['condition'] = 0\n",
    "\n",
    "for i in range(len(design_table)):\n",
    "    if design_table['group'][i] == 1:\n",
    "        design_table['condition'][i] = 1\n",
    "        if design_table['s1_asrt_type'][i] == 'perceptuo':\n",
    "            design_table['condition'][i] = 2\n",
    "    elif design_table['group'][i] == 2:\n",
    "        design_table['condition'][i] = 3\n",
    "        if design_table['s1_asrt_type'][i] == 'perceptuo':\n",
    "            design_table['condition'][i] = 4\n",
    "    elif design_table['group'][i] == 3:\n",
    "        design_table['condition'][i] = 5\n",
    "        if design_table['s1_asrt_type'][i] == 'perceptuo':\n",
    "            design_table['condition'][i] = 6"
   ]
  },
  {
   "cell_type": "code",
   "execution_count": 11,
   "id": "db4128ff",
   "metadata": {},
   "outputs": [],
   "source": [
    "# drop participants\n",
    "design_table = design_table.drop(design_table[design_table['to_drop'] == 1].index)"
   ]
  },
  {
   "cell_type": "code",
   "execution_count": 12,
   "id": "46cca3f1",
   "metadata": {},
   "outputs": [],
   "source": [
    "# save\n",
    "design_table.to_csv('processed_data/design_table.csv')"
   ]
  },
  {
   "cell_type": "markdown",
   "id": "c388cd07",
   "metadata": {},
   "source": [
    "## create general data table"
   ]
  },
  {
   "cell_type": "code",
   "execution_count": 13,
   "id": "d165c5a6",
   "metadata": {},
   "outputs": [],
   "source": [
    "# extract info from experiment report: sex, years of education, age\n",
    "data_general = exp_rep.iloc[:, [0, 3, 4, 5, 7]]"
   ]
  },
  {
   "cell_type": "code",
   "execution_count": 14,
   "id": "3351b32d",
   "metadata": {},
   "outputs": [],
   "source": [
    "# rename cols\n",
    "data_general = data_general.rename(columns = {0 : 'subject', 3 : 'sex', 4 : 'date_of_birth', 5 : 'education_years', 7 : 'date_of_experiment'})"
   ]
  },
  {
   "cell_type": "code",
   "execution_count": 15,
   "id": "90fcc192",
   "metadata": {},
   "outputs": [],
   "source": [
    "# merge with design table\n",
    "data_general = data_general.merge(design_table, on = 'subject')"
   ]
  },
  {
   "cell_type": "code",
   "execution_count": 16,
   "id": "613bf41e",
   "metadata": {},
   "outputs": [],
   "source": [
    "# drop participants\n",
    "data_general = data_general.drop(data_general[data_general['to_drop'] == 1].index)"
   ]
  },
  {
   "cell_type": "code",
   "execution_count": 17,
   "id": "13a89ccb",
   "metadata": {},
   "outputs": [],
   "source": [
    "# recode sex\n",
    "data_general['sex'] = data_general['sex'].replace({'F': 'male', 'N': 'female'})"
   ]
  },
  {
   "cell_type": "code",
   "execution_count": 18,
   "id": "14dce0c4",
   "metadata": {},
   "outputs": [],
   "source": [
    "# calculate age\n",
    "data_general['date_of_birth'] = pd.to_datetime(data_general['date_of_birth'], format='%Y.%m.%d.')\n",
    "data_general['date_of_experiment'] = pd.to_datetime(data_general['date_of_experiment'], format='%Y.%m.%d.')\n",
    "\n",
    "data_general['age'] = (\n",
    "    data_general['date_of_experiment'].dt.year - data_general['date_of_birth'].dt.year\n",
    "    - ((data_general['date_of_experiment'].dt.month < data_general['date_of_birth'].dt.month) |\n",
    "       ((data_general['date_of_experiment'].dt.month == data_general['date_of_birth'].dt.month) &\n",
    "        (data_general['date_of_experiment'].dt.day < data_general['date_of_birth'].dt.day))\n",
    "      ).astype(int)\n",
    ")"
   ]
  },
  {
   "cell_type": "code",
   "execution_count": 19,
   "id": "6efe11f4",
   "metadata": {},
   "outputs": [],
   "source": [
    "# save file\n",
    "data_general.to_csv('processed_data/data_general.csv')"
   ]
  }
 ],
 "metadata": {
  "kernelspec": {
   "display_name": "Python 3 (ipykernel)",
   "language": "python",
   "name": "python3"
  },
  "language_info": {
   "codemirror_mode": {
    "name": "ipython",
    "version": 3
   },
   "file_extension": ".py",
   "mimetype": "text/x-python",
   "name": "python",
   "nbconvert_exporter": "python",
   "pygments_lexer": "ipython3",
   "version": "3.9.13"
  }
 },
 "nbformat": 4,
 "nbformat_minor": 5
}
